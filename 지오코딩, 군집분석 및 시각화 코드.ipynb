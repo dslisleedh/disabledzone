{
 "cells": [
  {
   "cell_type": "markdown",
   "id": "f5dd6ab1-05f0-4600-a992-bc21fa49ae92",
   "metadata": {},
   "source": [
    "<h1>서울특별시 장애인 관련 사회복지시설목록 지오코딩</h1>\n",
    "<h3>서울특별시 장애인 관련 사회복지시설 목록에 QGIS 점좌표나 X,Y좌표가 없어서 분석이 불가함.</h3>\n",
    "<h3>-> 이를 해결하기 위해 주소를 좌표로 변환하는 지오코딩 실시.</h3>"
   ]
  },
  {
   "cell_type": "code",
   "execution_count": null,
   "id": "7c5d4b9c-b61b-42e1-8690-3f31eb71bbd9",
   "metadata": {},
   "outputs": [],
   "source": [
    "import pandas as pd\n",
    "import numpy as np\n",
    "import re\n",
    "import json\n",
    "import requests\n",
    "import googlemaps\n",
    "import urllib\n",
    "from xml.etree.ElementTree import parse\n",
    "from bs4 import BeautifulSoup"
   ]
  },
  {
   "cell_type": "code",
   "execution_count": null,
   "id": "50710440-c0ad-47d3-899c-7fdc1e154271",
   "metadata": {},
   "outputs": [],
   "source": [
    "#구글 Maps API KEY\n",
    "api_key = ''"
   ]
  },
  {
   "cell_type": "code",
   "execution_count": null,
   "id": "5283d9cb-a07d-4085-9f71-0d8ad58322a1",
   "metadata": {},
   "outputs": [],
   "source": [
    "#서울시 장애인 관련 사회복지시설 목록 CSV파일을 불러옴.\n",
    "dis = pd.read_csv('서울특별시 장애인 관련 사회복지시설목록.csv', encoding = 'euc-kr')"
   ]
  },
  {
   "cell_type": "code",
   "execution_count": null,
   "id": "e3eef6f3-26eb-4cc0-a242-cd7e22076e23",
   "metadata": {
    "scrolled": true,
    "tags": []
   },
   "outputs": [],
   "source": [
    "#서울시 장애인 관련 사회복지 시설 목록에서 주소와 시설명을 불러옴\n",
    "#-> 이것을 구글 지오코딩을 이용해 lon, lat 좌표로 변환함.\n",
    "lon = []\n",
    "lat = []\n",
    "e_l = []\n",
    "for i in range(len(dis)):\n",
    "    a = re.sub(r'\\([^)]*\\)','',dis.iloc[i,9])\n",
    "    url = f'https://maps.googleapis.com/maps/api/geocode/json?address={a}&key={api_key}&language=ko'\n",
    "    res = requests.get(url)\n",
    "    lon.append(res.json()['results'][0]['geometry']['location']['lng'])\n",
    "    lat.append(res.json()['results'][0]['geometry']['location']['lat'])\n",
    "    e_l.append(a)\n",
    "        \n",
    "    print(i+1/len(dis.시설주소))"
   ]
  },
  {
   "cell_type": "code",
   "execution_count": null,
   "id": "0d937bad-ad18-4e84-a711-8387d2216fdc",
   "metadata": {},
   "outputs": [],
   "source": [
    "#구해온 lon, lat 좌표를 원래 DF에 추가한 후 저장.\n",
    "dis['lon'] = lon\n",
    "dis['lat'] = lat\n",
    "\n",
    "dis.to_csv('서울특별시장애인거주시설_좌표추가_구글지오코딩.csv', index = False, encoding = 'UTF-8')"
   ]
  },
  {
   "cell_type": "code",
   "execution_count": null,
   "id": "55d22c2f-91a0-4604-a2c3-cf24047e8796",
   "metadata": {},
   "outputs": [],
   "source": [
    "#주민자치센터 데이터를 불러옴.\n",
    "se = pd.read_csv('서울시 주민자치센터 정보.csv')"
   ]
  },
  {
   "cell_type": "code",
   "execution_count": null,
   "id": "a8f2d4ba-3144-4a2c-a6df-f11b09c191b0",
   "metadata": {},
   "outputs": [],
   "source": [
    "#데이터 확인\n",
    "dis.info()"
   ]
  },
  {
   "cell_type": "code",
   "execution_count": null,
   "id": "079da63f-767c-4020-b89a-f4eec6a002b7",
   "metadata": {
    "scrolled": true,
    "tags": []
   },
   "outputs": [],
   "source": [
    "#서울시 주민자치센터 목록에서 도로명 주소를 불러옴.\n",
    "#-> 이것을 구글 지오코딩을 이용해 lon, lat 좌표로 변환함.\n",
    "lon = []\n",
    "lat = []\n",
    "for idx, a in enumerate(se['도로명 주소']):\n",
    "    a = re.sub(r'\\([^)]*\\)','',a)\n",
    "    url = f'https://maps.googleapis.com/maps/api/geocode/json?address={a}&key={api_key}&language=ko'\n",
    "    res = requests.get(url)\n",
    "    lon.append(res.json()['results'][0]['geometry']['location']['lng'])\n",
    "    lat.append(res.json()['results'][0]['geometry']['location']['lat'])\n",
    "    \n",
    "    print((idx + 1)/len(se['도로명 주소']))"
   ]
  },
  {
   "cell_type": "code",
   "execution_count": null,
   "id": "4fbe74b5-f936-4ff4-b0bc-a0952d8de32e",
   "metadata": {},
   "outputs": [],
   "source": [
    "se['lon'] = lon\n",
    "se['lat'] = lat"
   ]
  },
  {
   "cell_type": "code",
   "execution_count": null,
   "id": "27191112-ba8f-4f73-bb00-659817710215",
   "metadata": {},
   "outputs": [],
   "source": [
    "se.to_csv('서울특별시_주민자치센터_좌표추가_구글지오코딩.csv', index = False)"
   ]
  },
  {
   "cell_type": "markdown",
   "id": "2a47b6ba-b2fb-40ee-98cc-c0ac1428e287",
   "metadata": {},
   "source": [
    "<h1>각각 장애인관련 사회복지 시설들 Clustering</h1>\n",
    "<h3>사고가 자주 발생하는 위험한 집단을 찾아 장애인구역 우선 설치를 권장하기 위해 Clustering 실시. Clustering의 성능 향상을 위해 우선 차원축소를 실시한 뒤 클러스터링을 실시할 예정.</h3>"
   ]
  },
  {
   "cell_type": "code",
   "execution_count": null,
   "id": "a1d616fa-ea92-46b8-8e04-7b05903c7a8b",
   "metadata": {},
   "outputs": [],
   "source": [
    "import umap \n",
    "from sklearn.decomposition import PCA\n",
    "import matplotlib.pyplot as plt\n",
    "import seaborn as sns\n",
    "import pandas as pd\n",
    "import numpy as np\n",
    "from sklearn.preprocessing import StandardScaler\n",
    "import joblib\n",
    "from sklearn.metrics import silhouette_samples, silhouette_score\n",
    "from matplotlib import font_manager, rc\n",
    "font_path = \"C:/Windows/Fonts/NGULIM.TTF\"\n",
    "font = font_manager.FontProperties(fname=font_path).get_name()\n",
    "rc('font', family=font)\n",
    "from yellowbrick.cluster import SilhouetteVisualizer\n",
    "from sklearn.cluster import KMeans\n",
    "from sklearn.metrics import silhouette_score\n",
    "from sklearn_extra.cluster import KMedoids\n",
    "from hyperopt import hp, tpe, fmin, Trials, STATUS_OK\n",
    "from hyperopt.pyll import scope"
   ]
  },
  {
   "cell_type": "code",
   "execution_count": null,
   "id": "a95dab3b-7142-404b-890d-e1abcc668852",
   "metadata": {},
   "outputs": [],
   "source": [
    "#Clustering을 위해 사용할 시설별 정보 파일을 불러옴.\n",
    "dis_h = pd.read_csv('/Users/user/Desktop/팀프/분석용 데이터 최종_과속방지턱제거_불량산책로추가_진짜최종.csv', encoding = 'EUC-KR', index_col=0)"
   ]
  },
  {
   "cell_type": "code",
   "execution_count": null,
   "id": "e4a1013f-ac6f-4998-8933-c8c84eb04749",
   "metadata": {},
   "outputs": [],
   "source": [
    "#사용할 컬럼을 솎아내기위해 컬럼이 어떤것이 있나 확인.\n",
    "dis_h"
   ]
  },
  {
   "cell_type": "code",
   "execution_count": null,
   "id": "54aae08a-2169-4e76-b06e-d7d4fa7871b5",
   "metadata": {},
   "outputs": [],
   "source": [
    "#Clustering을 할 수 있도록 사용할 컬럼들만 추려냄.\n",
    "dis_h_2 = dis_h.loc[:, [x for x in dis_h.columns if x != 'total']]"
   ]
  },
  {
   "cell_type": "code",
   "execution_count": null,
   "id": "837a0650-606d-4747-9abd-9e80f44d1540",
   "metadata": {},
   "outputs": [],
   "source": [
    "dis_h_2.tail()"
   ]
  },
  {
   "cell_type": "code",
   "execution_count": null,
   "id": "18e62870-c1d4-4eb3-a6df-d598cb6dde04",
   "metadata": {},
   "outputs": [],
   "source": [
    "#추후 편리하게 사용하기위해 비교할 사고횟수를 따로 빼둠.\n",
    "acc_c = dis_h.total"
   ]
  },
  {
   "cell_type": "code",
   "execution_count": null,
   "id": "4119cde0-bcaf-4252-ba15-6fc893fe9b99",
   "metadata": {},
   "outputs": [],
   "source": [
    "#특정 컬럼때문에 공간변환이 틀어지는 것을 예방하기 위해 Standard Scaler를 이용\n",
    "scaler = StandardScaler()\n",
    "dis_h_2_scaled = scaler.fit_transform(dis_h_2)\n",
    "dis_h_2_scaled"
   ]
  },
  {
   "cell_type": "code",
   "execution_count": null,
   "id": "be79b813-b7a4-4ab1-b72e-823f5e99551c",
   "metadata": {},
   "outputs": [],
   "source": [
    "#Scaled된 Data를 일단 dis_h_2_scaled.shape[1]( = 11 )차원으로 공간변환함. 누적기여율을 확인하고 사용할 예정. \n",
    "pca = PCA(n_components=dis_h_2_scaled.shape[1])\n",
    "dis_h_pca_t = pca.fit_transform(dis_h_2_scaled)\n",
    "result = pd.DataFrame({'설명가능한 분산 비율(고윳값)':pca.explained_variance_,\n",
    "             '기여율':pca.explained_variance_ratio_},\n",
    "            index=np.array([f\"pca{num+1}\" for num in range(dis_h_2_scaled.shape[1])]))\n",
    "result['누적기여율'] = result['기여율'].cumsum()\n",
    "result"
   ]
  },
  {
   "cell_type": "markdown",
   "id": "b762df18-f9a4-429a-98b1-81e39ac81cda",
   "metadata": {},
   "source": [
    "<h4>PCA 8에서  누적 기여율이 80%를 넘고 고유값도 0.7에 매우 근사함. -> 8차원까지 공간변환 할것임.</h4>"
   ]
  },
  {
   "cell_type": "code",
   "execution_count": null,
   "id": "59e6ee7e-ed68-4843-b8ef-a68d12dc5fed",
   "metadata": {},
   "outputs": [],
   "source": [
    "pca = PCA(n_components=8)\n",
    "dis_h_pca = pca.fit_transform(dis_h_2_scaled)"
   ]
  },
  {
   "cell_type": "code",
   "execution_count": null,
   "id": "44e7e835-f042-467e-bbc5-881156304fdb",
   "metadata": {},
   "outputs": [],
   "source": [
    "# 7차원의 PCA변환된 데이터로 K-Means를 해봄.\n",
    "\n",
    "sse = []\n",
    "silhouette_coefficients = []\n",
    "for i in range(2, 11):\n",
    "    kmeans = KMeans(init=\"random\",\n",
    "                n_clusters=i,\n",
    "                n_init=10,\n",
    "                max_iter=300,\n",
    "                random_state=42\n",
    "    )\n",
    "    kmeans.fit(dis_h_pca)\n",
    "    sse.append(kmeans.inertia_)\n",
    "    score = silhouette_score(dis_h_pca, kmeans.labels_)\n",
    "    silhouette_coefficients.append(score)\n",
    "    \n",
    "    print(f'{i}  kmeans inertia : {kmeans.inertia_}')\n",
    "    print(f'{i}  kmeans score : {score}')\n",
    "\n",
    "plt.style.use(\"fivethirtyeight\")\n",
    "plt.plot(range(2, 11), sse)\n",
    "plt.xticks(range(2, 11))\n",
    "plt.xlabel(\"클러스터 수\")\n",
    "plt.ylabel(\"SSE\")\n",
    "plt.show()"
   ]
  },
  {
   "cell_type": "code",
   "execution_count": null,
   "id": "b4503028-83ce-4e7c-bec7-82b6801560b3",
   "metadata": {},
   "outputs": [],
   "source": [
    "plt.style.use(\"fivethirtyeight\")\n",
    "plt.plot(range(2, 11), silhouette_coefficients)\n",
    "plt.xticks(range(2, 11))\n",
    "plt.xlabel(\"Number of Clusters\")\n",
    "plt.ylabel(\"silhouette_score\")\n",
    "plt.show()"
   ]
  },
  {
   "cell_type": "code",
   "execution_count": null,
   "id": "f7bf5550-55ae-4be9-b4bb-479645c26be3",
   "metadata": {},
   "outputs": [],
   "source": [
    "#6에서 변곡점과 유사한형태가 보임 -> 6에 실루엣그래프 그려봄.\n",
    "fig, ax = plt.subplots(figsize=(8,7))\n",
    "km = KMeans(n_clusters=7, init='random',max_iter=500, random_state=42)\n",
    "ax.set_facecolor((1.0, 1.0,1.0))\n",
    "plt.rcParams['figure.facecolor'] = 'white'\n",
    "visualizer = SilhouetteVisualizer(km, colors='yellowbrick')\n",
    "visualizer.fit(dis_h_pca)\n"
   ]
  },
  {
   "cell_type": "markdown",
   "id": "5101b656-a857-4ed9-987f-6f2c40e32777",
   "metadata": {},
   "source": [
    "성능이 매우 좋지않음"
   ]
  },
  {
   "cell_type": "markdown",
   "id": "fac159e2-e226-42c1-b0c9-b220a6684d5b",
   "metadata": {},
   "source": [
    "<h4>PCA 한 후 Clustering이 잘 안됨 -> 분산을이용하는 PCA보다 매니폴드 가정을 이용하는 UMAP이용</h4>\n",
    "\n",
    "UMAP은 n_neighbor, min_dist라는 hyperparameter가 있으며, 이에 따라 차원축소 결과가 상이하게달라짐.  \n",
    "UMAP을 Manually하게 search하고 거기에 K-Means와 K-Medoids 전부 해보면서 k정한다는건 사실상힘듬 -> 베이지안최적화를 이용하는 hyperopt를 사용해 hyperparameter를 search할 것임.  \n",
    "search space :  \n",
    "    1. K : 해석 용이하게 통상적으로 많이 쓰는 3-7개로 돌려볼것임. K가 적을수록 변동계수가 적어지는 경향이 있기에 K당 한번씩 찾아볼것.  \n",
    "    2. Model : K-means, K-medoids  \n",
    "    3. n_neighbor : 작을수록 locality 강조. 차원보다 높게 설정하는것이 권장되기에 4-50으로 넣어봄.  \n",
    "    4. min_dist : point를 얼마나 촘촘하게 묶을지 결정.  0.01부터 0.9까지 넣어볼것임.\n",
    "    \n",
    "최적화할 Loss 정의 :  \n",
    "실루엣 그래프를 판단할 때 중요한것이 군집별 실루엣계수가 얼마나 일정한가임. -> 군집별 실루엣 계수들의 변동계수를 Loss로 지정 후 이것을 최소화하는 방향으로 최적화 실행  \n",
    "\n",
    "그렇게 복잡한 공간도아니고 시각화하는것도 중요한 요소기에 3차원으로 변환할것임.  \n",
    "\n",
    "각각 K에 대한 최적의 결과에서 군집별 사고 횟수 차이가 가장 큰 것을 선택할것."
   ]
  },
  {
   "cell_type": "code",
   "execution_count": null,
   "id": "88103d0a-ad32-4052-9483-34707b54f592",
   "metadata": {},
   "outputs": [],
   "source": [
    "'''\n",
    "K가 n일때 최적화된 UMAP, MODEL 확인.\n",
    "'''\n",
    "\n",
    "def search_space():\n",
    "    space = {'model' : hp.choice('model', ('kmeans','kmedoids')),\n",
    "             'n_n': scope.int(hp.quniform('n_n', 4, 50, q=1)),\n",
    "             'm_d': hp.uniform('m_d', 0.01, 0.9)}\n",
    "    return space\n",
    "\n",
    "def return_cv(sil_avg, sil_values, cluster_labels):\n",
    "    return {'loss' : np.std(pd.DataFrame({'label' : cluster_labels, 'sil_values' : sil_values}).groupby(['label']).mean().sil_values) / sil_avg, 'status': STATUS_OK}\n",
    "\n",
    "def obj_fnc(params):\n",
    "    dis_h_um = umap.UMAP(n_neighbors=params.get('n_n'),\n",
    "                 min_dist = params.get('m_d'),\n",
    "                 n_components = 3,\n",
    "                 random_state = 42).fit_transform(dis_h_2_scaled)\n",
    "    \n",
    "    if params.get('model') == 'kmeans':\n",
    "        clusterer = KMeans(init = 'random', n_clusters = n, max_iter=500, random_state=42)\n",
    "        cluster_labels = clusterer.fit_predict(dis_h_um)\n",
    "        sil_avg = silhouette_score(dis_h_um, cluster_labels)\n",
    "        sil_values = silhouette_samples(dis_h_um, cluster_labels)\n",
    "        return(return_cv(sil_avg, sil_values, cluster_labels))\n",
    "    \n",
    "    if params.get('model') == 'kmedoids':\n",
    "        clusterer = KMedoids(init=\"random\", n_clusters = n, max_iter=500, random_state=42)\n",
    "        cluster_labels = clusterer.fit_predict(dis_h_um)\n",
    "        sil_avg = silhouette_score(dis_h_um, cluster_labels)\n",
    "        sil_values = silhouette_samples(dis_h_um, cluster_labels)\n",
    "        return(return_cv(sil_avg, sil_values, cluster_labels))\n",
    "    \n",
    "hypopt_trials_3 = Trials()\n",
    "best_params = fmin(obj_fnc, search_space(), algo=tpe.suggest, max_evals=1000, trials= hypopt_trials_3, rstate = np.random.RandomState(42) )"
   ]
  },
  {
   "cell_type": "code",
   "execution_count": null,
   "id": "bd97521e-ce2d-4798-8f05-4103800bf92f",
   "metadata": {},
   "outputs": [],
   "source": [
    "'''\n",
    "K가 3일때 최적화된 UMAP, MODEL 확인.\n",
    "'''\n",
    "\n",
    "def search_space():\n",
    "    space = {'model' : hp.choice('model', ('kmeans','kmedoids')),\n",
    "             'n_n': scope.int(hp.quniform('n_n', 4, 50, q=1)),\n",
    "             'm_d': hp.uniform('m_d', 0.01, 0.9)}\n",
    "    return space\n",
    "\n",
    "def return_cv(sil_avg, sil_values, cluster_labels):\n",
    "    return {'loss' : np.std(pd.DataFrame({'label' : cluster_labels, 'sil_values' : sil_values}).groupby(['label']).mean().sil_values) / sil_avg, 'status': STATUS_OK}\n",
    "\n",
    "def obj_fnc(params):\n",
    "    dis_h_um = umap.UMAP(n_neighbors=params.get('n_n'),\n",
    "                 min_dist = params.get('m_d'),\n",
    "                 n_components = 3,\n",
    "                 random_state = 42).fit_transform(dis_h_2_scaled)\n",
    "    \n",
    "    if params.get('model') == 'kmeans':\n",
    "        clusterer = KMeans(init = 'random', n_clusters = 3, max_iter=500, random_state=42)\n",
    "        cluster_labels = clusterer.fit_predict(dis_h_um)\n",
    "        sil_avg = silhouette_score(dis_h_um, cluster_labels)\n",
    "        sil_values = silhouette_samples(dis_h_um, cluster_labels)\n",
    "        return(return_cv(sil_avg, sil_values, cluster_labels))\n",
    "    \n",
    "    if params.get('model') == 'kmedoids':\n",
    "        clusterer = KMedoids(init=\"random\", n_clusters = 3, max_iter=500, random_state=42)\n",
    "        cluster_labels = clusterer.fit_predict(dis_h_um)\n",
    "        sil_avg = silhouette_score(dis_h_um, cluster_labels)\n",
    "        sil_values = silhouette_samples(dis_h_um, cluster_labels)\n",
    "        return(return_cv(sil_avg, sil_values, cluster_labels))\n",
    "    \n",
    "hypopt_trials_3 = Trials()\n",
    "best_params = fmin(obj_fnc, search_space(), algo=tpe.suggest, max_evals=1000, trials= hypopt_trials_3, rstate = np.random.RandomState(42) )"
   ]
  },
  {
   "cell_type": "code",
   "execution_count": null,
   "id": "abd02cc8-05e3-4dc0-9b47-a78fff0d5c76",
   "metadata": {},
   "outputs": [],
   "source": [
    "n_n = int(hypopt_trials_3.best_trial['misc']['vals']['n_n'][0])\n",
    "m_dist = hypopt_trials_3.best_trial['misc']['vals']['m_d'][0]\n",
    "r_m_dist = round(m_dist, 3)\n",
    "dis_h_um = umap.UMAP(n_neighbors=n_n,\n",
    "                     min_dist = m_dist,\n",
    "                     n_components = 3,\n",
    "                     random_state = 42).fit_transform(dis_h_2_scaled)\n",
    "if hypopt_trials_3.best_trial['misc']['vals']['model'][0] == 0:\n",
    "    clusterer = KMeans(init = 'random', n_clusters = 3, max_iter=500, random_state=42)\n",
    "    cluster_labels = clusterer.fit_predict(dis_h_um)\n",
    "    model_name = 'K-Means'\n",
    "if hypopt_trials_3.best_trial['misc']['vals']['model'][0] == 1:\n",
    "    clusterer = KMedoids(init = 'random', n_clusters = 3, max_iter=500, random_state=42)\n",
    "    cluster_labels = clusterer.fit_predict(dis_h_um)\n",
    "    model_name = 'K-Medoids'\n",
    "    \n",
    "fig = plt.figure(figsize = (20, 10))\n",
    "ax = fig.add_subplot(111, projection='3d')\n",
    "ax.scatter(dis_h_um[:,0], dis_h_um[:,1], dis_h_um[:,2], c = [sns.color_palette('bright')[x] for x in cluster_labels], s = 50)\n",
    "ax.set_title(f'K가 3일때 군집 결과 \\n 사용모델 : {model_name}, n_neighbor : {n_n}, min_dist : {r_m_dist}')"
   ]
  },
  {
   "cell_type": "code",
   "execution_count": null,
   "id": "baeeaf04-2ec3-4b1d-9dd2-90d752ea291b",
   "metadata": {},
   "outputs": [],
   "source": [
    "fig, ax = plt.subplots(figsize=(15,8))\n",
    "name = 'K-Means' if hypopt_trials_3.best_trial['misc']['vals']['model'][0] == 0 else 'K-Medoids'\n",
    "name\n",
    "fig.suptitle(f'{name} 실루엣 계수 그래프: K가 3일때')\n",
    "\n",
    "visualizer = SilhouetteVisualizer(clusterer, colors='yellowbrick')\n",
    "visualizer.fit(dis_h_um)"
   ]
  },
  {
   "cell_type": "code",
   "execution_count": null,
   "id": "44df035c-2c9c-41a1-bc82-08900ad160fa",
   "metadata": {},
   "outputs": [],
   "source": [
    "sns.barplot(data = pd.DataFrame({'acc' : acc_c, 'cl_label' : cluster_labels}).groupby(['cl_label']).mean().reset_index(), x = 'cl_label', y = 'acc').set_title('군집 별 평균 사고 횟수')"
   ]
  },
  {
   "cell_type": "code",
   "execution_count": null,
   "id": "ae99b519-800a-42c1-b7e1-2e096d896a28",
   "metadata": {},
   "outputs": [],
   "source": [
    "sns.barplot(data = pd.DataFrame(pd.DataFrame({'acc' : acc_c, 'cl_label' : cluster_labels}).cl_label.value_counts()).reset_index(), x = 'index', y = 'cl_label').set_title('군집 별 개체 갯수')"
   ]
  },
  {
   "cell_type": "code",
   "execution_count": null,
   "id": "7da7889e-0e1a-4201-a5c3-e2a7e7ef09c5",
   "metadata": {
    "scrolled": true,
    "tags": []
   },
   "outputs": [],
   "source": [
    "'''\n",
    "K가 4일때 최적화된 UMAP, MODEL 확인.\n",
    "'''\n",
    "\n",
    "def search_space():\n",
    "    space = {'model' : hp.choice('model', ('kmeans','kmedoids')),\n",
    "             'n_n': scope.int(hp.quniform('n_n', 4, 50, q=1)),\n",
    "             'm_d': hp.uniform('m_d', 0.01, 0.9)}\n",
    "    return space\n",
    "\n",
    "def return_cv(sil_avg, sil_values, cluster_labels):\n",
    "    return {'loss' : np.std(pd.DataFrame({'label' : cluster_labels, 'sil_values' : sil_values}).groupby(['label']).mean().sil_values) / sil_avg, 'status': STATUS_OK}\n",
    "\n",
    "def obj_fnc(params):\n",
    "    dis_h_um = umap.UMAP(n_neighbors=params.get('n_n'),\n",
    "                 min_dist = params.get('m_d'),\n",
    "                 n_components = 3,\n",
    "                 random_state = 42).fit_transform(dis_h_2_scaled)\n",
    "    \n",
    "    if params.get('model') == 'kmeans':\n",
    "        clusterer = KMeans(init = 'random', n_clusters = 4, max_iter=500, random_state=42)\n",
    "        cluster_labels = clusterer.fit_predict(dis_h_um)\n",
    "        sil_avg = silhouette_score(dis_h_um, cluster_labels)\n",
    "        sil_values = silhouette_samples(dis_h_um, cluster_labels)\n",
    "        return(return_cv(sil_avg, sil_values, cluster_labels))\n",
    "    \n",
    "    if params.get('model') == 'kmedoids':\n",
    "        clusterer = KMedoids(init=\"random\", n_clusters = 4, max_iter=500, random_state=42)\n",
    "        cluster_labels = clusterer.fit_predict(dis_h_um)\n",
    "        sil_avg = silhouette_score(dis_h_um, cluster_labels)\n",
    "        sil_values = silhouette_samples(dis_h_um, cluster_labels)\n",
    "        return(return_cv(sil_avg, sil_values, cluster_labels))\n",
    "    \n",
    "hypopt_trials_4 = Trials()\n",
    "best_params = fmin(obj_fnc, search_space(), algo=tpe.suggest, max_evals=1000, trials= hypopt_trials_4, rstate = np.random.RandomState(42) )"
   ]
  },
  {
   "cell_type": "code",
   "execution_count": null,
   "id": "81b87749-71c8-40c6-9f36-e5ba1c4177f3",
   "metadata": {},
   "outputs": [],
   "source": [
    "n_n = int(hypopt_trials_4.best_trial['misc']['vals']['n_n'][0])\n",
    "m_dist = hypopt_trials_4.best_trial['misc']['vals']['m_d'][0]\n",
    "r_m_dist = round(m_dist, 3)\n",
    "dis_h_um = umap.UMAP(n_neighbors=n_n,\n",
    "                     min_dist = m_dist,\n",
    "                     n_components = 3,\n",
    "                     random_state = 42).fit_transform(dis_h_2_scaled)\n",
    "if hypopt_trials_4.best_trial['misc']['vals']['model'][0] == 0:\n",
    "    clusterer = KMeans(init = 'random', n_clusters = 4, max_iter=500, random_state=42)\n",
    "    cluster_labels = clusterer.fit_predict(dis_h_um)\n",
    "    model_name = 'K-Means'\n",
    "if hypopt_trials_4.best_trial['misc']['vals']['model'][0] == 1:\n",
    "    clusterer = KMedoids(init = 'random', n_clusters = 4, max_iter=500, random_state=42)\n",
    "    cluster_labels = clusterer.fit_predict(dis_h_um)\n",
    "    model_name = 'K-Medoids'\n",
    "    \n",
    "fig = plt.figure(figsize = (20, 10))\n",
    "ax = fig.add_subplot(111, projection='3d')\n",
    "ax.scatter(dis_h_um[:,0], dis_h_um[:,1], dis_h_um[:,2], c = [sns.color_palette('bright')[x] for x in cluster_labels], s = 50)\n",
    "ax.set_title(f'K가 4일때 군집 결과 \\n 사용모델 : {model_name}, n_neighbor : {n_n}, min_dist : {r_m_dist}')"
   ]
  },
  {
   "cell_type": "code",
   "execution_count": null,
   "id": "2d4b3b66-00bd-41cb-b311-8f556b65c742",
   "metadata": {},
   "outputs": [],
   "source": [
    "fig, ax = plt.subplots(figsize=(15,8))\n",
    "name = 'K-Means' if hypopt_trials_4.best_trial['misc']['vals']['model'][0] == 0 else 'K-Medoids'\n",
    "name\n",
    "fig.suptitle(f'{name} 실루엣 계수 그래프: K가 4일때')\n",
    "\n",
    "visualizer = SilhouetteVisualizer(clusterer, colors='yellowbrick')\n",
    "visualizer.fit(dis_h_um)"
   ]
  },
  {
   "cell_type": "code",
   "execution_count": null,
   "id": "17841756-bbda-4542-b9e7-334806509eeb",
   "metadata": {},
   "outputs": [],
   "source": [
    "sns.barplot(data = pd.DataFrame({'acc' : acc_c, 'cl_label' : cluster_labels}).groupby(['cl_label']).mean().reset_index(), x = 'cl_label', y = 'acc').set_title(f'군집 별 평균 사고 횟수')"
   ]
  },
  {
   "cell_type": "code",
   "execution_count": null,
   "id": "6d81731b-f841-4f14-a5e9-69d552322181",
   "metadata": {},
   "outputs": [],
   "source": [
    "sns.barplot(data = pd.DataFrame(pd.DataFrame({'acc' : acc_c, 'cl_label' : cluster_labels}).cl_label.value_counts()).reset_index(), x = 'index', y = 'cl_label').set_title('군집 별 개체 갯수')"
   ]
  },
  {
   "cell_type": "code",
   "execution_count": null,
   "id": "0a792c23-1ef5-4dbd-87a5-512c48cdf1cf",
   "metadata": {},
   "outputs": [],
   "source": [
    "'''\n",
    "K가 5일때 최적화된 UMAP, MODEL 확인.\n",
    "'''\n",
    "\n",
    "def search_space():\n",
    "    space = {'model' : hp.choice('model', ('kmeans','kmedoids')),\n",
    "             'n_n': scope.int(hp.quniform('n_n', 4, 50, q=1)),\n",
    "             'm_d': hp.uniform('m_d', 0.01, 0.9)}\n",
    "    return space\n",
    "\n",
    "def return_cv(sil_avg, sil_values, cluster_labels):\n",
    "    return {'loss' : np.std(pd.DataFrame({'label' : cluster_labels, 'sil_values' : sil_values}).groupby(['label']).mean().sil_values) / sil_avg, 'status': STATUS_OK}\n",
    "\n",
    "def obj_fnc(params):\n",
    "    dis_h_um = umap.UMAP(n_neighbors=params.get('n_n'),\n",
    "                 min_dist = params.get('m_d'),\n",
    "                 n_components = 3,\n",
    "                 random_state = 42).fit_transform(dis_h_2_scaled)\n",
    "    \n",
    "    if params.get('model') == 'kmeans':\n",
    "        clusterer = KMeans(init = 'random', n_clusters = 5, max_iter=500, random_state=42)\n",
    "        cluster_labels = clusterer.fit_predict(dis_h_um)\n",
    "        sil_avg = silhouette_score(dis_h_um, cluster_labels)\n",
    "        sil_values = silhouette_samples(dis_h_um, cluster_labels)\n",
    "        return(return_cv(sil_avg, sil_values, cluster_labels))\n",
    "    \n",
    "    if params.get('model') == 'kmedoids':\n",
    "        clusterer = KMedoids(init=\"random\", n_clusters = 5, max_iter=500, random_state=42)\n",
    "        cluster_labels = clusterer.fit_predict(dis_h_um)\n",
    "        sil_avg = silhouette_score(dis_h_um, cluster_labels)\n",
    "        sil_values = silhouette_samples(dis_h_um, cluster_labels)\n",
    "        return(return_cv(sil_avg, sil_values, cluster_labels))\n",
    "    \n",
    "hypopt_trials_5 = Trials()\n",
    "best_params = fmin(obj_fnc, search_space(), algo=tpe.suggest, max_evals=1000, trials= hypopt_trials_5, rstate = np.random.RandomState(42) )"
   ]
  },
  {
   "cell_type": "code",
   "execution_count": null,
   "id": "8dc01c83-4c0e-40d1-8f90-897b9e0d80fa",
   "metadata": {},
   "outputs": [],
   "source": [
    "n_n = int(hypopt_trials_5.best_trial['misc']['vals']['n_n'][0])\n",
    "m_dist = hypopt_trials_5.best_trial['misc']['vals']['m_d'][0]\n",
    "r_m_dist = round(m_dist, 3)\n",
    "dis_h_um = umap.UMAP(n_neighbors=n_n,\n",
    "                     min_dist = m_dist,\n",
    "                     n_components = 3,\n",
    "                     random_state = 42).fit_transform(dis_h_2_scaled)\n",
    "if hypopt_trials_5.best_trial['misc']['vals']['model'][0] == 0:\n",
    "    clusterer = KMeans(init = 'random', n_clusters = 5, max_iter=500, random_state=42)\n",
    "    cluster_labels = clusterer.fit_predict(dis_h_um)\n",
    "    model_name = 'K-Means'\n",
    "if hypopt_trials_5.best_trial['misc']['vals']['model'][0] == 1:\n",
    "    clusterer = KMedoids(init = 'random', n_clusters = 5, max_iter=500, random_state=42)\n",
    "    cluster_labels = clusterer.fit_predict(dis_h_um)\n",
    "    model_name = 'K-Medoids'\n",
    "    \n",
    "fig = plt.figure(figsize = (20, 10))\n",
    "ax = fig.add_subplot(111, projection='3d')\n",
    "ax.scatter(dis_h_um[:,0], dis_h_um[:,1], dis_h_um[:,2], c = [sns.color_palette('bright')[x] for x in cluster_labels], s = 50)\n",
    "ax.set_title(f'K가 5일때 군집 결과 \\n 사용모델 : {model_name}, n_neighbor : {n_n}, min_dist : {r_m_dist}')"
   ]
  },
  {
   "cell_type": "code",
   "execution_count": null,
   "id": "61b18bd2-75d1-4a41-bbe8-bc6e0d26090b",
   "metadata": {},
   "outputs": [],
   "source": [
    "fig, ax = plt.subplots(figsize=(15,8))\n",
    "name = 'K-Means' if hypopt_trials_5.best_trial['misc']['vals']['model'][0] == 0 else 'K-Medoids'\n",
    "name\n",
    "fig.suptitle(f'{name} 실루엣 계수 그래프: K가 5일때')\n",
    "\n",
    "visualizer = SilhouetteVisualizer(clusterer, colors='yellowbrick')\n",
    "visualizer.fit(dis_h_um)"
   ]
  },
  {
   "cell_type": "code",
   "execution_count": null,
   "id": "7113cf11-dad2-4e09-ba7a-861fcac1f086",
   "metadata": {},
   "outputs": [],
   "source": [
    "sns.barplot(data = pd.DataFrame({'acc' : acc_c, 'cl_label' : cluster_labels}).groupby(['cl_label']).mean().reset_index(), x = 'cl_label', y = 'acc').set_title(f'군집 별 평균 사고 횟수')"
   ]
  },
  {
   "cell_type": "code",
   "execution_count": null,
   "id": "da0b70fb-5f3f-463a-8e33-83bd86c4b6fb",
   "metadata": {},
   "outputs": [],
   "source": [
    "sns.barplot(data = pd.DataFrame(pd.DataFrame({'acc' : acc_c, 'cl_label' : cluster_labels}).cl_label.value_counts()).reset_index(), x = 'index', y = 'cl_label').set_title('군집 별 개체 갯수')"
   ]
  },
  {
   "cell_type": "code",
   "execution_count": null,
   "id": "dc90d375-46bc-4992-8c0d-94180b6649ad",
   "metadata": {},
   "outputs": [],
   "source": [
    "'''\n",
    "K가 6일때 최적화된 UMAP, MODEL 확인.\n",
    "'''\n",
    "\n",
    "def search_space():\n",
    "    space = {'model' : hp.choice('model', ('kmeans','kmedoids')),\n",
    "             'n_n': scope.int(hp.quniform('n_n', 4, 50, q=1)),\n",
    "             'm_d': hp.uniform('m_d', 0.01, 0.9)}\n",
    "    return space\n",
    "\n",
    "def return_cv(sil_avg, sil_values, cluster_labels):\n",
    "    return {'loss' : np.std(pd.DataFrame({'label' : cluster_labels, 'sil_values' : sil_values}).groupby(['label']).mean().sil_values) / sil_avg, 'status': STATUS_OK}\n",
    "\n",
    "def obj_fnc(params):\n",
    "    dis_h_um = umap.UMAP(n_neighbors=params.get('n_n'),\n",
    "                 min_dist = params.get('m_d'),\n",
    "                 n_components = 3,\n",
    "                 random_state = 42).fit_transform(dis_h_2_scaled)\n",
    "    \n",
    "    if params.get('model') == 'kmeans':\n",
    "        clusterer = KMeans(init = 'random', n_clusters = 6, max_iter=500, random_state=42)\n",
    "        cluster_labels = clusterer.fit_predict(dis_h_um)\n",
    "        sil_avg = silhouette_score(dis_h_um, cluster_labels)\n",
    "        sil_values = silhouette_samples(dis_h_um, cluster_labels)\n",
    "        return(return_cv(sil_avg, sil_values, cluster_labels))\n",
    "    \n",
    "    if params.get('model') == 'kmedoids':\n",
    "        clusterer = KMedoids(init=\"random\", n_clusters = 6, max_iter=500, random_state=42)\n",
    "        cluster_labels = clusterer.fit_predict(dis_h_um)\n",
    "        sil_avg = silhouette_score(dis_h_um, cluster_labels)\n",
    "        sil_values = silhouette_samples(dis_h_um, cluster_labels)\n",
    "        return(return_cv(sil_avg, sil_values, cluster_labels))\n",
    "    \n",
    "hypopt_trials_6 = Trials()\n",
    "best_params = fmin(obj_fnc, search_space(), algo=tpe.suggest, max_evals=1000, trials= hypopt_trials_6, rstate = np.random.RandomState(42) )"
   ]
  },
  {
   "cell_type": "code",
   "execution_count": null,
   "id": "6ad43c95-5ba6-402a-b7ed-5488c0f7a6c5",
   "metadata": {},
   "outputs": [],
   "source": [
    "n_n = int(hypopt_trials_6.best_trial['misc']['vals']['n_n'][0])\n",
    "m_dist = hypopt_trials_6.best_trial['misc']['vals']['m_d'][0]\n",
    "r_m_dist = round(m_dist, 3)\n",
    "dis_h_um = umap.UMAP(n_neighbors=n_n,\n",
    "                     min_dist = m_dist,\n",
    "                     n_components = 3,\n",
    "                     random_state = 42).fit_transform(dis_h_2_scaled)\n",
    "if hypopt_trials_6.best_trial['misc']['vals']['model'][0] == 0:\n",
    "    clusterer = KMeans(init = 'random', n_clusters = 6, max_iter=500, random_state=42)\n",
    "    cluster_labels = clusterer.fit_predict(dis_h_um)\n",
    "    model_name = 'K-Means'\n",
    "if hypopt_trials_6.best_trial['misc']['vals']['model'][0] == 1:\n",
    "    clusterer = KMedoids(init = 'random', n_clusters = 6, max_iter=500, random_state=42)\n",
    "    cluster_labels = clusterer.fit_predict(dis_h_um)\n",
    "    model_name = 'K-Medoids'\n",
    "    \n",
    "fig = plt.figure(figsize = (20, 10))\n",
    "ax = fig.add_subplot(111, projection='3d')\n",
    "ax.scatter(dis_h_um[:,0], dis_h_um[:,1], dis_h_um[:,2], c = [sns.color_palette('bright')[x] for x in cluster_labels], s = 50)\n",
    "ax.set_title(f'K가 6일때 군집 결과 \\n 사용모델 : {model_name}, n_neighbor : {n_n}, min_dist : {r_m_dist}')"
   ]
  },
  {
   "cell_type": "code",
   "execution_count": null,
   "id": "6c41350d-7678-4136-9e98-5d2a12ea3bae",
   "metadata": {},
   "outputs": [],
   "source": [
    "fig, ax = plt.subplots(figsize=(15,8))\n",
    "name = 'K-Means' if hypopt_trials_6.best_trial['misc']['vals']['model'][0] == 0 else 'K-Medoids'\n",
    "name\n",
    "fig.suptitle(f'{name} 실루엣 계수 그래프: K가 6일때')\n",
    "\n",
    "visualizer = SilhouetteVisualizer(clusterer, colors='yellowbrick')\n",
    "visualizer.fit(dis_h_um)"
   ]
  },
  {
   "cell_type": "code",
   "execution_count": null,
   "id": "51a24783-f965-4935-8926-52150640365e",
   "metadata": {},
   "outputs": [],
   "source": [
    "sns.barplot(data = pd.DataFrame({'acc' : acc_c, 'cl_label' : cluster_labels}).groupby(['cl_label']).mean().reset_index(), x = 'cl_label', y = 'acc').set_title(f'군집 별 평균 사고 횟수')"
   ]
  },
  {
   "cell_type": "code",
   "execution_count": null,
   "id": "fe9ad668-dab4-47e2-a490-4586f8511ea1",
   "metadata": {},
   "outputs": [],
   "source": [
    "sns.barplot(data = pd.DataFrame(pd.DataFrame({'acc' : acc_c, 'cl_label' : cluster_labels}).cl_label.value_counts()).reset_index(), x = 'index', y = 'cl_label').set_title('군집 별 개체 갯수')"
   ]
  },
  {
   "cell_type": "code",
   "execution_count": null,
   "id": "fc1cd529-89cf-42d9-95e2-4f5fbfd567f3",
   "metadata": {},
   "outputs": [],
   "source": [
    "'''\n",
    "K가 7일때 최적화된 UMAP, MODEL 확인.\n",
    "'''\n",
    "\n",
    "def search_space():\n",
    "    space = {'model' : hp.choice('model', ('kmeans','kmedoids')),\n",
    "             'n_n': scope.int(hp.quniform('n_n', 4, 50, q=1)),\n",
    "             'm_d': hp.uniform('m_d', 0.01, 0.9)}\n",
    "    return space\n",
    "\n",
    "def return_cv(sil_avg, sil_values, cluster_labels):\n",
    "    return {'loss' : np.std(pd.DataFrame({'label' : cluster_labels, 'sil_values' : sil_values}).groupby(['label']).mean().sil_values) / sil_avg, 'status': STATUS_OK}\n",
    "\n",
    "def obj_fnc(params):\n",
    "    dis_h_um = umap.UMAP(n_neighbors=params.get('n_n'),\n",
    "                 min_dist = params.get('m_d'),\n",
    "                 n_components = 3,\n",
    "                 random_state = 42).fit_transform(dis_h_2_scaled)\n",
    "    \n",
    "    if params.get('model') == 'kmeans':\n",
    "        clusterer = KMeans(init = 'random', n_clusters = 7, max_iter=500, random_state=42)\n",
    "        cluster_labels = clusterer.fit_predict(dis_h_um)\n",
    "        sil_avg = silhouette_score(dis_h_um, cluster_labels)\n",
    "        sil_values = silhouette_samples(dis_h_um, cluster_labels)\n",
    "        return(return_cv(sil_avg, sil_values, cluster_labels))\n",
    "    \n",
    "    if params.get('model') == 'kmedoids':\n",
    "        clusterer = KMedoids(init=\"random\", n_clusters = 7, max_iter=500, random_state=42)\n",
    "        cluster_labels = clusterer.fit_predict(dis_h_um)\n",
    "        sil_avg = silhouette_score(dis_h_um, cluster_labels)\n",
    "        sil_values = silhouette_samples(dis_h_um, cluster_labels)\n",
    "        return(return_cv(sil_avg, sil_values, cluster_labels))\n",
    "    \n",
    "hypopt_trials_7 = Trials()\n",
    "best_params = fmin(obj_fnc, search_space(), algo=tpe.suggest, max_evals=1000, trials= hypopt_trials_7, rstate = np.random.RandomState(42) )"
   ]
  },
  {
   "cell_type": "code",
   "execution_count": null,
   "id": "7c36618d-d455-4c56-aded-2e2c8c34dc3e",
   "metadata": {},
   "outputs": [],
   "source": [
    "n_n = int(hypopt_trials_7.best_trial['misc']['vals']['n_n'][0])\n",
    "m_dist = hypopt_trials_7.best_trial['misc']['vals']['m_d'][0]\n",
    "r_m_dist = round(m_dist, 3)\n",
    "dis_h_um = umap.UMAP(n_neighbors=n_n,\n",
    "                     min_dist = m_dist,\n",
    "                     n_components = 3,\n",
    "                     random_state = 42).fit_transform(dis_h_2_scaled)\n",
    "if hypopt_trials_7.best_trial['misc']['vals']['model'][0] == 0:\n",
    "    clusterer = KMeans(init = 'random', n_clusters = 7, max_iter=500, random_state=42)\n",
    "    cluster_labels = clusterer.fit_predict(dis_h_um)\n",
    "    model_name = 'K-Means'\n",
    "if hypopt_trials_7.best_trial['misc']['vals']['model'][0] == 1:\n",
    "    clusterer = KMedoids(init = 'random', n_clusters = 7, max_iter=500, random_state=42)\n",
    "    cluster_labels = clusterer.fit_predict(dis_h_um)\n",
    "    model_name = 'K-Medoids'\n",
    "    \n",
    "fig = plt.figure(figsize = (20, 10))\n",
    "ax = fig.add_subplot(111, projection='3d')\n",
    "ax.scatter(dis_h_um[:,0], dis_h_um[:,1], dis_h_um[:,2], c = [sns.color_palette('dark',7)[x] for x in cluster_labels], s = 50)\n",
    "ax.set_title(f'K가 7일때 군집 결과 \\n 사용모델 : {model_name}, n_neighbor : {n_n}, min_dist : {r_m_dist}', fontsize = 20)"
   ]
  },
  {
   "cell_type": "code",
   "execution_count": null,
   "id": "581ce9df-3b7a-44ae-80f0-8be97e4b8614",
   "metadata": {},
   "outputs": [],
   "source": [
    "fig, ax = plt.subplots(figsize=(13,8))\n",
    "name = 'K-Means' if hypopt_trials_7.best_trial['misc']['vals']['model'][0] == 0 else 'K-Medoids'\n",
    "name\n",
    "fig.suptitle(f'{name} 실루엣 계수 그래프: K가 7일때', fontsize = 30)\n",
    "\n",
    "visualizer = SilhouetteVisualizer(clusterer, colors='yellowbrick')\n",
    "visualizer.fit(dis_h_um)"
   ]
  },
  {
   "cell_type": "code",
   "execution_count": null,
   "id": "95c2b2f1-eaea-4797-b95f-4838cd75f11a",
   "metadata": {},
   "outputs": [],
   "source": [
    "sns.barplot(data = pd.DataFrame({'acc' : acc_c, 'cl_label' : cluster_labels}).groupby(['cl_label']).mean().reset_index(), x = 'cl_label', y = 'acc').set_title(f'군집 별 평균 사고 횟수')"
   ]
  },
  {
   "cell_type": "code",
   "execution_count": null,
   "id": "55659839-8049-4f84-bb3b-ff4386f76c3c",
   "metadata": {},
   "outputs": [],
   "source": [
    "sns.barplot(data = pd.DataFrame(pd.DataFrame({'acc' : acc_c, 'cl_label' : cluster_labels}).cl_label.value_counts()).reset_index(), x = 'index', y = 'cl_label').set_title('군집 별 개체 갯수')"
   ]
  },
  {
   "cell_type": "code",
   "execution_count": null,
   "id": "ec0d7551-919b-4212-97fc-78d4a800b697",
   "metadata": {},
   "outputs": [],
   "source": [
    "res_df = pd.read_csv('분석용 데이터 진짜최종_.csv', encoding='EUC-KR').drop(columns = 'Unnamed: 2')"
   ]
  },
  {
   "cell_type": "code",
   "execution_count": null,
   "id": "3894ebba-668b-4a3a-90b7-5a12b985590c",
   "metadata": {},
   "outputs": [],
   "source": [
    "res_df['cluster_k7'] = cluster_labels\n",
    "res_df.to_csv('분석용 데이터 진짜최종_클러스터추가.csv', encoding='EUC-KR',index=False)"
   ]
  },
  {
   "cell_type": "code",
   "execution_count": null,
   "id": "c9d14360-4c58-4234-b995-56869035bc04",
   "metadata": {},
   "outputs": [],
   "source": [
    "dis_h_2.groupby('cluster_k7').mean().agg(['std','mean'])"
   ]
  },
  {
   "cell_type": "code",
   "execution_count": null,
   "id": "2e32d75b-fad3-4dab-b896-dd37cf8f3740",
   "metadata": {},
   "outputs": [],
   "source": [
    "n_n = 4\n",
    "m_dist = 0.01\n",
    "\n",
    "dis_h_um_visualize = umap.UMAP(n_neighbors=n_n,\n",
    "                     min_dist = m_dist,\n",
    "                     n_components = 3,\n",
    "                     random_state = 42).fit_transform(dis_h_2_scaled)\n",
    "\n",
    "    \n",
    "fig = plt.figure(figsize = (20, 10))\n",
    "ax = fig.add_subplot(111, projection='3d')\n",
    "ax.scatter(dis_h_um_visualize[:,0], dis_h_um_visualize[:,1], dis_h_um_visualize[:,2], s = 50, c = '#642EFE')\n",
    "ax.set_title(f'UMAP 3차원 축소 결과 \\n n_neighbor : {n_n}, min_dist : {m_dist}')"
   ]
  },
  {
   "cell_type": "code",
   "execution_count": null,
   "id": "2364492f-3ea3-4d45-958c-ac3d16b652e3",
   "metadata": {},
   "outputs": [],
   "source": [
    "n_n = 50\n",
    "m_dist = 0.4\n",
    "\n",
    "dis_h_um_visualize = umap.UMAP(n_neighbors=n_n,\n",
    "                     min_dist = m_dist,\n",
    "                     n_components = 3,\n",
    "                     random_state = 42).fit_transform(dis_h_2_scaled)\n",
    "\n",
    "    \n",
    "fig = plt.figure(figsize = (20, 10))\n",
    "ax = fig.add_subplot(111, projection='3d')\n",
    "ax.scatter(dis_h_um_visualize[:,0], dis_h_um_visualize[:,1], dis_h_um_visualize[:,2], s = 50, c = '#642EFE')\n",
    "ax.set_title(f'UMAP 3차원 축소 결과 \\n n_neighbor : {n_n}, min_dist : {m_dist}')"
   ]
  },
  {
   "cell_type": "code",
   "execution_count": null,
   "id": "f21e54e6-c6fe-4245-9bd0-87a5991896c3",
   "metadata": {},
   "outputs": [],
   "source": [
    "#Bayesian optimization results\n",
    "\n",
    "k = []\n",
    "min_dist = []\n",
    "model = []\n",
    "n_neighbors = []\n",
    "\n",
    "for i in range(3,8):\n",
    "    a = eval(f'hypopt_trials_{i}')\n",
    "    k.append(i)\n",
    "    min_dist.append(a.best_trial['misc']['vals']['m_d'][0])\n",
    "    model.append('K-Means' if a.best_trial['misc']['vals']['model'][0] == 0 else 'K-Medoids')\n",
    "    n_neighbors.append(a.best_trial['misc']['vals']['n_n'][0])"
   ]
  },
  {
   "cell_type": "code",
   "execution_count": null,
   "id": "352bf026-53e4-4ff3-92ea-d7198f535531",
   "metadata": {},
   "outputs": [],
   "source": [
    "pd.DataFrame({'K' : k, 'min_dist' : min_dist, 'model' : model, 'n_neibors' : n_neighbors})"
   ]
  },
  {
   "cell_type": "code",
   "execution_count": null,
   "id": "e4891f46-6ac4-40bf-b951-4f9fb4b65a0e",
   "metadata": {},
   "outputs": [],
   "source": [
    "fig, ax = plt.subplots(figsize=(8,7))\n",
    "name = 'K-Means' if hypopt_trials_7.best_trial['misc']['vals']['model'][0] == 0 else 'K-Medoids'\n",
    "ax.set_facecolor((1.0, 1.0,1.0))\n",
    "plt.rcParams['figure.facecolor'] = 'white'\n",
    "visualizer = SilhouetteVisualizer(clusterer, colors='yellowbrick')\n",
    "visualizer.fit(dis_h_um)"
   ]
  },
  {
   "cell_type": "code",
   "execution_count": null,
   "id": "93130829-5d28-48ca-9fe7-942c64278094",
   "metadata": {},
   "outputs": [],
   "source": [
    "cluster_labels"
   ]
  },
  {
   "cell_type": "code",
   "execution_count": null,
   "id": "c0f0c493-0c56-49f5-a802-5c3dcdf0d250",
   "metadata": {},
   "outputs": [],
   "source": []
  }
 ],
 "metadata": {
  "kernelspec": {
   "display_name": "Python 3",
   "language": "python",
   "name": "python3"
  },
  "language_info": {
   "codemirror_mode": {
    "name": "ipython",
    "version": 3
   },
   "file_extension": ".py",
   "mimetype": "text/x-python",
   "name": "python",
   "nbconvert_exporter": "python",
   "pygments_lexer": "ipython3",
   "version": "3.8.8"
  }
 },
 "nbformat": 4,
 "nbformat_minor": 5
}
